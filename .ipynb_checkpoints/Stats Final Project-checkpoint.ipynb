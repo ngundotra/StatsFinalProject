{
 "cells": [
  {
   "cell_type": "markdown",
   "metadata": {},
   "source": [
    "### Stats Final Project by Noah Gundotra and Anne Zepecki\n",
    "---\n",
    "\n",
    "We're cleaning data from 4 stratified samples of the 4 LGHS classes\n",
    "\n",
    "Data[]\n",
    "- Senior[]\n",
    "- Junior[]\n",
    "- Soph[]\n",
    "- Fresh[]\n",
    "    - [num, {grades}, {ap's}]\n",
    "        - grades{} = {eng, math, science, math2, science2} if math2 and science2 exist\n",
    "        - ap's{} = {eng, math, science, math2, science2} each one initialized"
   ]
  },
  {
   "cell_type": "code",
   "execution_count": 4,
   "metadata": {
    "collapsed": false
   },
   "outputs": [],
   "source": [
    "def extractData(filename):\n",
    "    f = open(filename)\n",
    "    csv_f = csv.reader(f)\n",
    "    rawData = []\n",
    "    print(next(csv_f))\n",
    "    print(next(csv_f))\n",
    "    "
   ]
  },
  {
   "cell_type": "code",
   "execution_count": 8,
   "metadata": {
    "collapsed": false
   },
   "outputs": [
    {
     "name": "stdout",
     "output_type": "stream",
     "text": [
      "['english', 'math', 'science']\n"
     ]
    }
   ],
   "source": [
    "extractData(\"Freshmen\")"
   ]
  },
  {
   "cell_type": "code",
   "execution_count": null,
   "metadata": {
    "collapsed": true
   },
   "outputs": [],
   "source": []
  }
 ],
 "metadata": {
  "kernelspec": {
   "display_name": "Python 2",
   "language": "python",
   "name": "python2"
  },
  "language_info": {
   "codemirror_mode": {
    "name": "ipython",
    "version": 2
   },
   "file_extension": ".py",
   "mimetype": "text/x-python",
   "name": "python",
   "nbconvert_exporter": "python",
   "pygments_lexer": "ipython2",
   "version": "2.7.11"
  }
 },
 "nbformat": 4,
 "nbformat_minor": 0
}
